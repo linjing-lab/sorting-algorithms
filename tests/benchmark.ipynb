{
 "cells": [
  {
   "cell_type": "code",
   "execution_count": 1,
   "metadata": {},
   "outputs": [],
   "source": [
    "import time\n",
    "import random\n",
    "import psutil\n",
    "import sortingx as six\n",
    "import matplotlib.pyplot as plt"
   ]
  },
  {
   "cell_type": "code",
   "execution_count": 2,
   "metadata": {},
   "outputs": [],
   "source": [
    "\n",
    "# time with no key, no reverse\n",
    "data = [[random.randint(0, 10) for _ in range(1000)] for _ in range(10000)]\n",
    "testing = [data for _ in range(7)]"
   ]
  },
  {
   "cell_type": "code",
   "execution_count": 3,
   "metadata": {},
   "outputs": [
    {
     "ename": "TypeError",
     "evalue": "sort() takes no positional arguments",
     "output_type": "error",
     "traceback": [
      "\u001b[1;31m---------------------------------------------------------------------------\u001b[0m",
      "\u001b[1;31mTypeError\u001b[0m                                 Traceback (most recent call last)",
      "\u001b[1;32mD:\\TempFiles/ipykernel_15740/2058918398.py\u001b[0m in \u001b[0;36m<module>\u001b[1;34m\u001b[0m\n\u001b[0;32m     14\u001b[0m     \u001b[0mtimes\u001b[0m\u001b[1;33m.\u001b[0m\u001b[0mappend\u001b[0m\u001b[1;33m(\u001b[0m\u001b[0mgap\u001b[0m\u001b[1;33m)\u001b[0m\u001b[1;33m\u001b[0m\u001b[1;33m\u001b[0m\u001b[0m\n\u001b[0;32m     15\u001b[0m \u001b[1;33m\u001b[0m\u001b[0m\n\u001b[1;32m---> 16\u001b[1;33m \u001b[0mprint\u001b[0m\u001b[1;33m(\u001b[0m\u001b[0mtest\u001b[0m\u001b[1;33m(\u001b[0m\u001b[0msix\u001b[0m\u001b[1;33m.\u001b[0m\u001b[0mbubble\u001b[0m\u001b[1;33m,\u001b[0m \u001b[1;36m0\u001b[0m\u001b[1;33m)\u001b[0m\u001b[1;33m,\u001b[0m \u001b[0mtest\u001b[0m\u001b[1;33m(\u001b[0m\u001b[0msix\u001b[0m\u001b[1;33m.\u001b[0m\u001b[0mheap\u001b[0m\u001b[1;33m,\u001b[0m \u001b[1;36m1\u001b[0m\u001b[1;33m)\u001b[0m\u001b[1;33m,\u001b[0m \u001b[0mtest\u001b[0m\u001b[1;33m(\u001b[0m\u001b[0msix\u001b[0m\u001b[1;33m.\u001b[0m\u001b[0minsert\u001b[0m\u001b[1;33m,\u001b[0m \u001b[1;36m2\u001b[0m\u001b[1;33m)\u001b[0m\u001b[1;33m,\u001b[0m \u001b[0mtest\u001b[0m\u001b[1;33m(\u001b[0m\u001b[0msix\u001b[0m\u001b[1;33m.\u001b[0m\u001b[0mmerge\u001b[0m\u001b[1;33m,\u001b[0m \u001b[1;36m3\u001b[0m\u001b[1;33m)\u001b[0m\u001b[1;33m,\u001b[0m \u001b[0mtest\u001b[0m\u001b[1;33m(\u001b[0m\u001b[0msix\u001b[0m\u001b[1;33m.\u001b[0m\u001b[0mquick\u001b[0m\u001b[1;33m,\u001b[0m \u001b[1;36m4\u001b[0m\u001b[1;33m)\u001b[0m\u001b[1;33m,\u001b[0m \u001b[0mtest\u001b[0m\u001b[1;33m(\u001b[0m\u001b[0msix\u001b[0m\u001b[1;33m.\u001b[0m\u001b[0mshell\u001b[0m\u001b[1;33m,\u001b[0m \u001b[1;36m5\u001b[0m\u001b[1;33m)\u001b[0m\u001b[1;33m,\u001b[0m \u001b[0mtest_python\u001b[0m\u001b[1;33m(\u001b[0m\u001b[1;33m)\u001b[0m\u001b[1;33m)\u001b[0m\u001b[1;33m\u001b[0m\u001b[1;33m\u001b[0m\u001b[0m\n\u001b[0m\u001b[0;32m     17\u001b[0m \u001b[0mmethdos\u001b[0m \u001b[1;33m=\u001b[0m \u001b[1;33m[\u001b[0m\u001b[1;34m'six.bubble'\u001b[0m\u001b[1;33m,\u001b[0m \u001b[1;34m'six.heap'\u001b[0m\u001b[1;33m,\u001b[0m \u001b[1;34m'six.insert'\u001b[0m\u001b[1;33m,\u001b[0m \u001b[1;34m'six.merge'\u001b[0m\u001b[1;33m,\u001b[0m \u001b[1;34m'six.quick'\u001b[0m\u001b[1;33m,\u001b[0m \u001b[1;34m'six.shell'\u001b[0m\u001b[1;33m,\u001b[0m \u001b[1;34m'list.sort()'\u001b[0m\u001b[1;33m]\u001b[0m\u001b[1;33m\u001b[0m\u001b[1;33m\u001b[0m\u001b[0m\n\u001b[0;32m     18\u001b[0m \u001b[0mprint\u001b[0m\u001b[1;33m(\u001b[0m\u001b[0mtimes\u001b[0m\u001b[1;33m)\u001b[0m\u001b[1;33m\u001b[0m\u001b[1;33m\u001b[0m\u001b[0m\n",
      "\u001b[1;32mD:\\TempFiles/ipykernel_15740/2058918398.py\u001b[0m in \u001b[0;36mtest_python\u001b[1;34m()\u001b[0m\n\u001b[0;32m      9\u001b[0m \u001b[1;32mdef\u001b[0m \u001b[0mtest_python\u001b[0m\u001b[1;33m(\u001b[0m\u001b[1;33m)\u001b[0m\u001b[1;33m:\u001b[0m\u001b[1;33m\u001b[0m\u001b[1;33m\u001b[0m\u001b[0m\n\u001b[0;32m     10\u001b[0m     \u001b[0mts\u001b[0m \u001b[1;33m=\u001b[0m \u001b[0mtime\u001b[0m\u001b[1;33m.\u001b[0m\u001b[0mtime\u001b[0m\u001b[1;33m(\u001b[0m\u001b[1;33m)\u001b[0m\u001b[1;33m\u001b[0m\u001b[1;33m\u001b[0m\u001b[0m\n\u001b[1;32m---> 11\u001b[1;33m     \u001b[0mtesting\u001b[0m\u001b[1;33m[\u001b[0m\u001b[1;36m6\u001b[0m\u001b[1;33m]\u001b[0m\u001b[1;33m.\u001b[0m\u001b[0msort\u001b[0m\u001b[1;33m(\u001b[0m\u001b[0mkey\u001b[0m\u001b[1;33m,\u001b[0m \u001b[1;32mTrue\u001b[0m\u001b[1;33m)\u001b[0m\u001b[1;33m\u001b[0m\u001b[1;33m\u001b[0m\u001b[0m\n\u001b[0m\u001b[0;32m     12\u001b[0m     \u001b[0mte\u001b[0m \u001b[1;33m=\u001b[0m \u001b[0mtime\u001b[0m\u001b[1;33m.\u001b[0m\u001b[0mtime\u001b[0m\u001b[1;33m(\u001b[0m\u001b[1;33m)\u001b[0m\u001b[1;33m\u001b[0m\u001b[1;33m\u001b[0m\u001b[0m\n\u001b[0;32m     13\u001b[0m     \u001b[0mgap\u001b[0m \u001b[1;33m=\u001b[0m \u001b[0mte\u001b[0m \u001b[1;33m-\u001b[0m \u001b[0mts\u001b[0m\u001b[1;33m\u001b[0m\u001b[1;33m\u001b[0m\u001b[0m\n",
      "\u001b[1;31mTypeError\u001b[0m: sort() takes no positional arguments"
     ]
    }
   ],
   "source": [
    "times, key = [], lambda x: (x[2], x[3])\n",
    "def test(func=None, k=0):\n",
    "    ts = time.time()\n",
    "    func(testing[k], key, True)\n",
    "    te = time.time()\n",
    "    gap = te - ts\n",
    "    times.append(gap)\n",
    "\n",
    "def test_python():\n",
    "    ts = time.time()\n",
    "    testing[6].sort(key, True)\n",
    "    te = time.time()\n",
    "    gap = te - ts\n",
    "    times.append(gap)\n",
    "\n",
    "print(test(six.bubble, 0), test(six.heap, 1), test(six.insert, 2), test(six.merge, 3), test(six.quick, 4), test(six.shell, 5), test_python())\n",
    "\n",
    "print(times)\n"
   ]
  },
  {
   "cell_type": "code",
   "execution_count": 9,
   "metadata": {},
   "outputs": [],
   "source": [
    "ts = time.time()\n",
    "testing[6].sort(key=key, reverse=True)\n",
    "te = time.time()\n",
    "gap = te - ts\n",
    "times.append(gap)"
   ]
  },
  {
   "cell_type": "code",
   "execution_count": 10,
   "metadata": {},
   "outputs": [
    {
     "data": {
      "text/plain": [
       "[64.90735745429993,\n",
       " 0.2859354019165039,\n",
       " 0.23654484748840332,\n",
       " 0.3081343173980713,\n",
       " 1.2127883434295654,\n",
       " 0.07276201248168945,\n",
       " 0.0059854984283447266]"
      ]
     },
     "execution_count": 10,
     "metadata": {},
     "output_type": "execute_result"
    }
   ],
   "source": [
    "times"
   ]
  },
  {
   "cell_type": "code",
   "execution_count": 16,
   "metadata": {},
   "outputs": [
    {
     "data": {
      "image/png": "[encoded data removed]",
      "text/plain": [
       "<Figure size 432x288 with 1 Axes>"
      ]
     },
     "metadata": {
      "needs_background": "light"
     },
     "output_type": "display_data"
    }
   ],
   "source": [
    "methdos = ['six.bubble', 'six.heap', 'six.insert', 'six.merge', 'six.quick', 'six.shell', 'list.sort()']\n",
    "for i in range(1, 7):\n",
    "    plt.bar(methdos[i], times[i])\n",
    " \n",
    "plt.title(\"Sort by Two Keywords whitin Data Scale at 1000 * 10000\")\n",
    "plt.xlabel(\"name\")\n",
    "plt.ylabel(\"time/s\")\n",
    " \n",
    "plt.show()\n"
   ]
  },
  {
   "cell_type": "code",
   "execution_count": 17,
   "metadata": {},
   "outputs": [
    {
     "name": "stdout",
     "output_type": "stream",
     "text": [
      "None None None None None None None\n"
     ]
    }
   ],
   "source": [
    "\n",
    "data = [[random.randint(0, 10) for _ in range(1000)] for _ in range(10000)]\n",
    "testing = [data for _ in range(7)]\n"
   ]
  },
  {
   "cell_type": "code",
   "execution_count": null,
   "metadata": {},
   "outputs": [],
   "source": [
    "\n",
    "import os\n",
    "memeorys, key = [], lambda x: (x[2], x[3])\n",
    "def test(func=None, k=0):\n",
    "    pid = os.getpid()\n",
    "    p = psutil.Process(pid)\n",
    "    info_start = p.memory_full_info().uss/1024\n",
    "    func(testing[k], key, True)\n",
    "    info_end=p.memory_full_info().uss/1024\n",
    "    memeorys.append(str(info_end-info_start))\n",
    "\n",
    "def test_python():\n",
    "    pid = os.getpid()\n",
    "    p = psutil.Process(pid)\n",
    "    info_start = p.memory_full_info().uss/1024\n",
    "    testing[6].sort(key=key, reverse=True)\n",
    "    info_end=p.memory_full_info().uss/1024\n",
    "    memeorys.append(str(info_end-info_start))\n",
    "\n",
    "print(test(six.bubble, 0), test(six.heap, 1), test(six.insert, 2), test(six.merge, 3), test(six.quick, 4), test(six.shell, 5), test_python())\n"
   ]
  },
  {
   "cell_type": "code",
   "execution_count": 18,
   "metadata": {},
   "outputs": [
    {
     "data": {
      "text/plain": [
       "['1488.0', '8.0', '-95036.0', '312.0', '0.0', '12.0', '0.0']"
      ]
     },
     "execution_count": 18,
     "metadata": {},
     "output_type": "execute_result"
    }
   ],
   "source": [
    "memeorys"
   ]
  },
  {
   "cell_type": "code",
   "execution_count": 34,
   "metadata": {},
   "outputs": [],
   "source": [
    "data = [[random.randint(0, 10) for _ in range(1000)] for _ in range(10000)]\n",
    "testing = [data for _ in range(7)]"
   ]
  },
  {
   "cell_type": "code",
   "execution_count": 42,
   "metadata": {},
   "outputs": [
    {
     "name": "stdout",
     "output_type": "stream",
     "text": [
      "0.0\n"
     ]
    }
   ],
   "source": [
    "def test(func=None, k=0):\n",
    "    pid = os.getpid()\n",
    "    p = psutil.Process(pid)\n",
    "    info_start = p.memory_full_info().uss/1024\n",
    "    testing[6].sort(key=key, reverse=True)\n",
    "    info_end=p.memory_full_info().uss/1024\n",
    "    print(str(info_end-info_start))\n",
    "test(six.quick, 0)"
   ]
  },
  {
   "cell_type": "code",
   "execution_count": 45,
   "metadata": {},
   "outputs": [
    {
     "data": {
      "image/png": "[encoded data removed]",
      "text/plain": [
       "<Figure size 432x288 with 1 Axes>"
      ]
     },
     "metadata": {
      "needs_background": "light"
     },
     "output_type": "display_data"
    }
   ],
   "source": [
    "memeorys = [880, 16, 680, 0, 20, 12]\n",
    "methdos = ['six.heap', 'six.insert', 'six.merge', 'six.quick', 'six.shell', 'list.sort()']\n",
    "for i in range(6):\n",
    "    plt.bar(methdos[i], memeorys[i])\n",
    " \n",
    "plt.title(\"Sort by Two Keywords whitin Data Scale at 1000 * 10000\")\n",
    "plt.xlabel(\"name\")\n",
    "plt.ylabel(\"memory / KB\")\n",
    "\n",
    "plt.show()\n"
   ]
  },
  {
   "cell_type": "code",
   "execution_count": null,
   "metadata": {},
   "outputs": [],
   "source": []
  }
 ],
 "metadata": {
  "kernelspec": {
   "display_name": "Python 3.8.12 ('base')",
   "language": "python",
   "name": "python3"
  },
  "language_info": {
   "codemirror_mode": {
    "name": "ipython",
    "version": 3
   },
   "file_extension": ".py",
   "mimetype": "text/x-python",
   "name": "python",
   "nbconvert_exporter": "python",
   "pygments_lexer": "ipython3",
   "version": "3.8.12"
  },
  "orig_nbformat": 4,
  "vscode": {
   "interpreter": {
    "hash": "5179d32cf6ec497baf3f8a3ef987cc77c5d2dc691fdde20a56316522f61a7323"
   }
  }
 },
 "nbformat": 4,
 "nbformat_minor": 2
}
